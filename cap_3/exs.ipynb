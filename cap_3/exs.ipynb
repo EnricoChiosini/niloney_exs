{
 "cells": [
  {
   "cell_type": "code",
   "execution_count": null,
   "id": "dc806b4f",
   "metadata": {},
   "outputs": [],
   "source": [
    "# Exercício 3.1\n",
    "# Complete a tabela a seguir, marcando inteiro ou ponto flutuante dependendo do número apresentado.\n",
    "\n",
    "# | Número |           Tipo            |\n",
    "# |--------| inteiro | ponto flutuante |\n",
    "# | 5      |    X    |                 | \n",
    "# | 5.0    |         |        X        | \n",
    "# | 4.3    |         |        X        | \n",
    "# | -2     |    X    |                 | \n",
    "# | 100    |    X    |                 | \n",
    "# | 1.333  |         |        X        |\n"
   ]
  },
  {
   "cell_type": "code",
   "execution_count": null,
   "id": "219714a7",
   "metadata": {},
   "outputs": [
    {
     "name": "stdout",
     "output_type": "stream",
     "text": [
      "False\n",
      "True\n",
      "False\n",
      "False\n",
      "False\n",
      "False\n",
      "True\n",
      "True\n",
      "True\n",
      "True\n",
      "True\n"
     ]
    }
   ],
   "source": [
    "# Exercício 3.2\n",
    "# Complete a tabela a seguir, respondendo True ou False. Considere a = 4, b = 10, c = 5.0, d = 1 e f = 5.\n",
    "a = 4\n",
    "b = 10\n",
    "c = 5.0\n",
    "d = 1\n",
    "f = 5\n",
    "\n",
    "# | Expressão|   Resultado  |\n",
    "# |----------| True | False |\n",
    "# |  a == c  |      |   x   | \n",
    "# |  a < b   |   x  |       | \n",
    "# |  d > b   |      |   x   |\n",
    "# |  c != f  |      |   x   | \n",
    "# |  a == b  |      |   x   | \n",
    "# |  c < d   |      |   x   |\n",
    "# |  b > a   |   x  |       |\n",
    "# |  c >= f  |   x  |       | \n",
    "# |  f >= c  |   x  |       | \n",
    "# |  c <= c  |   x  |       |\n",
    "# |  c <= f  |   x  |       |\n",
    "\n",
    "print(a == c)\n",
    "print(a < b)\n",
    "print(d > b)\n",
    "print(c != f)\n",
    "print(a == b)\n",
    "print(c < d)\n",
    "print(b > a)\n",
    "print(c >= f)\n",
    "print(f >= c)\n",
    "print(c <= c)\n",
    "print(c <= f)"
   ]
  },
  {
   "cell_type": "code",
   "execution_count": 5,
   "id": "58ca66b1",
   "metadata": {},
   "outputs": [
    {
     "name": "stdout",
     "output_type": "stream",
     "text": [
      "True\n",
      "False\n",
      "False\n",
      "True\n",
      "False\n",
      "False\n",
      "False\n",
      "True\n",
      "True\n",
      "True\n",
      "True\n",
      "True\n",
      "False\n"
     ]
    }
   ],
   "source": [
    "# Exercício 3.3\n",
    "# Complete a tabela a seguir utilizando a = True, b = False e c = True.\n",
    "\n",
    "a = True\n",
    "b = False\n",
    "c = True\n",
    "\n",
    "# | Expressão|   Resultado  |\n",
    "# |----------| True | False |\n",
    "# |  a and a |   x  |       | \n",
    "# |  b and b |      |   x   | \n",
    "# |  not c   |      |   x   |\n",
    "# |  not b   |   x  |       | \n",
    "# |  not a   |      |   x   | \n",
    "# |  a and b |      |   x   |\n",
    "# |  b and c |      |   x   |\n",
    "# |  a or c  |   x  |       | \n",
    "# |  b or c  |   x  |       | \n",
    "# |  c or a  |   x  |       |\n",
    "# |  c or b  |   x  |       |\n",
    "# |  c or c  |   x  |       |\n",
    "# |  b or b  |      |   x   |\n",
    "\n",
    "print(a and a)\n",
    "print(b and b)\n",
    "print(not c)\n",
    "print(not b)\n",
    "print(not a)\n",
    "print(a and b)\n",
    "print(b and c)\n",
    "print(a or c)\n",
    "print(b or c)\n",
    "print(c or a)\n",
    "print(c or b)\n",
    "print(c or c)\n",
    "print(b or b)"
   ]
  },
  {
   "cell_type": "code",
   "execution_count": null,
   "id": "dffcc9b8",
   "metadata": {},
   "outputs": [
    {
     "name": "stdout",
     "output_type": "stream",
     "text": [
      "True\n"
     ]
    }
   ],
   "source": [
    "# Exercício 3.4\n",
    "# Escreva uma expressão para determinar se uma pessoa deve ou não pagar imposto. Considere que pam impostos pessoas cujo salário é maior que R$ 1.200,00.\n",
    "\n",
    "salario = 3500\n",
    "print(salario>1200)"
   ]
  },
  {
   "cell_type": "code",
   "execution_count": null,
   "id": "23fdd3c3",
   "metadata": {},
   "outputs": [
    {
     "name": "stdout",
     "output_type": "stream",
     "text": [
      "False\n",
      "False\n",
      "True\n"
     ]
    }
   ],
   "source": [
    "# Exercício 3.5\n",
    "#Calcule o resultado da expressão A > B and C or D, utilizando os valores da tabela a seguir.\n",
    "\n",
    "# |  A  |  B  |   C   |   D   | Resultado |\n",
    "# |  1  |  2  | True  | False |   False   |\n",
    "# |  10 |  3  | False | False |   False   |\n",
    "# |  5  |  1  | True  | True  |   True    |\n",
    "\n",
    "\n",
    "print(1 > 2 and True or False)\n",
    "print(10 > 3 and False or False)\n",
    "print(5 > 1 and True or True)"
   ]
  },
  {
   "cell_type": "code",
   "execution_count": 13,
   "id": "7afc890a",
   "metadata": {},
   "outputs": [
    {
     "name": "stdout",
     "output_type": "stream",
     "text": [
      "False\n"
     ]
    }
   ],
   "source": [
    "# Exercício 3.6\n",
    "# Escreva uma expressão que será utilizada para decidir se um aluno foi ou não aprovado. Para ser aprovado, todas as médias do aluno devem ser maiores ou iguais a 7. Considere que o aluno curso apenas três matérias, e que a nota de cada uma está armazenada nas seguintes variáveis: matéria1, matéria2 e matéria3.\n",
    "\n",
    "matéria1 = 6\n",
    "matéria2 = 7\n",
    "matéria3 = 8\n",
    "\n",
    "print(matéria1 >= 7 and matéria2 >= 7 and matéria3 >= 7)"
   ]
  },
  {
   "cell_type": "code",
   "execution_count": 15,
   "id": "cd80aecc",
   "metadata": {},
   "outputs": [
    {
     "name": "stdout",
     "output_type": "stream",
     "text": [
      "3\n"
     ]
    }
   ],
   "source": [
    "# Exercício 3.7\n",
    "# Faça um programa que peça dois números inteiros. Imprima a soma desses dois números na tela.\n",
    "\n",
    "a = int(input(\"Digite 1 número inteiro.\"))\n",
    "b = int(input(\"Digite +1 número inteiro.\"))\n",
    "print(a+b)"
   ]
  },
  {
   "cell_type": "code",
   "execution_count": 23,
   "id": "2b8b5494",
   "metadata": {},
   "outputs": [
    {
     "name": "stdout",
     "output_type": "stream",
     "text": [
      "30.50 em milímetros é 30500\n"
     ]
    }
   ],
   "source": [
    "# Exercício 3.8 \n",
    "# Escreva um programa que leia um valor em metros e o exiba convertido em milímetros.\n",
    "\n",
    "metros = 30.5\n",
    "milimetros = metros * 1000\n",
    "print(f\"{metros:.2f} em milímetros é {milimetros:.0f}\")"
   ]
  },
  {
   "cell_type": "code",
   "execution_count": null,
   "id": "d04a8f08",
   "metadata": {},
   "outputs": [
    {
     "name": "stdout",
     "output_type": "stream",
     "text": [
      "Isso em segundos é igual a: 189050 segundos!\n"
     ]
    }
   ],
   "source": [
    "# Exercício 3.9\n",
    "# Escreva um programa que leia a quantidade de dias, horas, minutos e segundos do usuário. Calcule o total de segundos.\n",
    "\n",
    "d = int(input(\"Digite o número de dias:\"))\n",
    "h = int(input(\"Digite o número de horas:\"))\n",
    "m = int(input(\"Digite o número de minutos:\"))\n",
    "s = int(input(\"Digite o número de segundos:\"))\n",
    "\n",
    "print(f\"Isso em segundos é igual a: {24*60*60*d + 60*60*h + 60*m + s} segundos!\")"
   ]
  },
  {
   "cell_type": "code",
   "execution_count": 27,
   "id": "c9169897",
   "metadata": {},
   "outputs": [
    {
     "name": "stdout",
     "output_type": "stream",
     "text": [
      "Salário final: R$1200.00 (aumento de R$200.00).\n"
     ]
    }
   ],
   "source": [
    "# Exercício 3.10\n",
    "# Faça um programa que calcule o aumento de m salário. Ele deve solicitar o valor do salário e a porcentagem do aumento. Exiba o valor do aumento e do novo salário.\n",
    "\n",
    "salario = float(input(\"Digite seu salário:\"))\n",
    "aumento = float(input(\"Digite o aumento (em %):\"))\n",
    "\n",
    "print(f\"Salário final: R${salario + salario*aumento/100:.2f} (aumento de R${salario*aumento/100:.2f}).\")\n"
   ]
  },
  {
   "cell_type": "code",
   "execution_count": 28,
   "id": "fd54a443",
   "metadata": {},
   "outputs": [
    {
     "name": "stdout",
     "output_type": "stream",
     "text": [
      "Preço final: R$800.00 (desconto de R$200.00)\n"
     ]
    }
   ],
   "source": [
    "# Exercício 3.11\n",
    "# Faça um programa que solicite o preço de uma mercadoria e o percentual de desconto. Exiba o valor do desconto e o preço a pagar.\n",
    "\n",
    "preco = float(input(\"Digite o preço da mercadoria:\"))\n",
    "desconto = float(input(\"Digite o desconto (em %):\"))\n",
    "\n",
    "print(f\"Preço final: R${preco - preco*desconto/100:.2f} (desconto de R${preco*desconto/100:.2f})\")"
   ]
  },
  {
   "cell_type": "code",
   "execution_count": null,
   "id": "ff3b0e16",
   "metadata": {},
   "outputs": [
    {
     "name": "stdout",
     "output_type": "stream",
     "text": [
      "O tempo estimado de viagem é de 10.0 horas.\n"
     ]
    }
   ],
   "source": [
    "# Exercício 3.12\n",
    "# Escreva um programa que calcule o tempo de uma viagem de carro. Pergunte a distância a percorrer e a velocidade média esperada para a viagem.\n",
    "\n",
    "distancia = float(input(\"Digite a distância a percorrer (em Km):\"))\n",
    "vm = float(input(\"Digite a velocidade média esperada (em Km/h):\"))\n",
    "\n",
    "print(f\"O tempo estimado de viagem é de {distancia/vm:.2f} horas.\")"
   ]
  },
  {
   "cell_type": "code",
   "execution_count": 33,
   "id": "e3809c21",
   "metadata": {},
   "outputs": [
    {
     "name": "stdout",
     "output_type": "stream",
     "text": [
      "32.00 ºF\n"
     ]
    }
   ],
   "source": [
    "# Exercício 3.13\n",
    "# Escreva um programa que converta uma temperatura digitada em ºC em ºF. A fórmula para essa conversão é: F = 9 * C / 5 + 32\n",
    "\n",
    "tc = float(input(\"Digite o valor da temperatura em ºC:\"))\n",
    "\n",
    "print(f\"{9*tc/5+32:.2f} ºF\")"
   ]
  },
  {
   "cell_type": "code",
   "execution_count": 34,
   "id": "bec12ed9",
   "metadata": {},
   "outputs": [
    {
     "name": "stdout",
     "output_type": "stream",
     "text": [
      "O valor a se pagar é R$ 307.50\n"
     ]
    }
   ],
   "source": [
    "# Exercício 3.14\n",
    "# Escreva um programa que pergunte a quantidade de km percorridos por um carro alugado pelo usuário, assim como a quantidade de dias pelos quais o carro foi alugado. Calcule o preço a pagar, sabendo que o carro custa R$ 60 por dia e R$ 0,15 por km rodado.\n",
    "\n",
    "km = float(input(\"Digite o número de quilômetros rodados:\"))\n",
    "dias = int(input(\"Digite o número de dias que ficou com o carro:\"))\n",
    "\n",
    "print(f\"O valor a se pagar é R$ {km*0.15 + dias*60:.2f}\")"
   ]
  },
  {
   "cell_type": "code",
   "execution_count": 36,
   "id": "87160bcf",
   "metadata": {},
   "outputs": [
    {
     "name": "stdout",
     "output_type": "stream",
     "text": [
      "Você já perdeu 25 dias de vida.\n"
     ]
    }
   ],
   "source": [
    "# Exercício 3.15\n",
    "# Escreva um programa para calcular a redução do tempo de vida de um fumante. Pergunte a quantidade de cigarros fumados por dia e quantos anos ele já fumou. Considere que um fumante perde 10 minutos de vida a cada cigarro, e calcule quantos dias de vida um fumante perderá. Exiba o total em dias.\n",
    "\n",
    "n = int(input(\"Quantos cigarros você fuma por dia?\"))\n",
    "tempo = int(input(\"A quantos anos você fuma?\"))\n",
    "\n",
    "print(f\"Você já perdeu {365*n*10/60/24:.0f} dias de vida.\")"
   ]
  },
  {
   "cell_type": "code",
   "execution_count": null,
   "id": "4f5f546a",
   "metadata": {},
   "outputs": [],
   "source": []
  }
 ],
 "metadata": {
  "kernelspec": {
   "display_name": "Python 3",
   "language": "python",
   "name": "python3"
  },
  "language_info": {
   "codemirror_mode": {
    "name": "ipython",
    "version": 3
   },
   "file_extension": ".py",
   "mimetype": "text/x-python",
   "name": "python",
   "nbconvert_exporter": "python",
   "pygments_lexer": "ipython3",
   "version": "3.9.6"
  }
 },
 "nbformat": 4,
 "nbformat_minor": 5
}
