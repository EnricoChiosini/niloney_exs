{
 "cells": [
  {
   "cell_type": "code",
   "execution_count": 8,
   "id": "f47be46d",
   "metadata": {},
   "outputs": [
    {
     "name": "stdout",
     "output_type": "stream",
     "text": [
      "610\n",
      "0.5333333333333333\n",
      "497\n"
     ]
    }
   ],
   "source": [
    "# Exercício 2.1\n",
    "# Converta as seguintes expressões matemáticas para que possam ser calculadas usando o interpretador Python.\n",
    "# 10 + 20 * 30;\n",
    "# 4^2 / 30;\n",
    "# (9^4 + 2) * 6 - 1\n",
    "\n",
    "print(10+20*30)\n",
    "print(4**2/30)\n",
    "print((9**2+2)*6-1)"
   ]
  },
  {
   "cell_type": "code",
   "execution_count": 9,
   "id": "4b8faaa4",
   "metadata": {},
   "outputs": [
    {
     "name": "stdout",
     "output_type": "stream",
     "text": [
      "81.0\n"
     ]
    }
   ],
   "source": [
    "# Exercício 2.2\n",
    "# Digite a seguinte expressão no interpretador:\n",
    "# 10 % 3 * 10 ** 2 + 1 - 10 * 4 / 2\n",
    "# Tente resolver o mesmo cálculo, usando lápis e papel. Observe como a prioridade das operações é importante.\n",
    "\n",
    "print(10 % 3 * 10 ** 2 + 1 - 10 * 4 / 2)\n",
    "\n",
    "# a ordem das operações segue a regra PEMDAS!"
   ]
  },
  {
   "cell_type": "code",
   "execution_count": 10,
   "id": "3e6f4c0e",
   "metadata": {},
   "outputs": [
    {
     "name": "stdout",
     "output_type": "stream",
     "text": [
      "Enrico maneiro 😎\n"
     ]
    }
   ],
   "source": [
    "# Exercício 2.3\n",
    "# Faça um programa que exiba seu nome na tela.\n",
    "\n",
    "print(\"Enrico maneiro 😎\")"
   ]
  },
  {
   "cell_type": "code",
   "execution_count": 11,
   "id": "d6e247df",
   "metadata": {},
   "outputs": [
    {
     "name": "stdout",
     "output_type": "stream",
     "text": [
      "90\n"
     ]
    }
   ],
   "source": [
    "# Exercício 2.4\n",
    "# Escreva um programa que exiba o resultado de 2a * 3b, em que a vale 3 e b vale 5.\n",
    "\n",
    "a = 3\n",
    "b = 5\n",
    "print(2*a*3*b)"
   ]
  },
  {
   "cell_type": "code",
   "execution_count": 12,
   "id": "550fcf3d",
   "metadata": {},
   "outputs": [
    {
     "name": "stdout",
     "output_type": "stream",
     "text": [
      "39\n"
     ]
    }
   ],
   "source": [
    "# Exercício 2.5\n",
    "# Escreva um programa que calcule a soma de três variáveis e imprima o resultado na tela.\n",
    "\n",
    "a = 3\n",
    "b = 9\n",
    "c = 27\n",
    "soma = a + b + c\n",
    "print(soma)"
   ]
  },
  {
   "cell_type": "code",
   "execution_count": 13,
   "id": "7d35e4bf",
   "metadata": {},
   "outputs": [
    {
     "name": "stdout",
     "output_type": "stream",
     "text": [
      "862.4999999999999\n"
     ]
    }
   ],
   "source": [
    "# Exercício 2.6\n",
    "# Modifique o Programa 2.2, de forma que ele calcule um aumento de 15% para um salário de R$750.\n",
    "\n",
    "salário = 750\n",
    "aumento = 15\n",
    "print(salário*(1+aumento/100))"
   ]
  },
  {
   "cell_type": "code",
   "execution_count": 14,
   "id": "f2a88b95",
   "metadata": {},
   "outputs": [
    {
     "name": "stdout",
     "output_type": "stream",
     "text": [
      "7.1\n",
      "7.1\n"
     ]
    }
   ],
   "source": [
    "# Exercício 2.7\n",
    "# Usando as propriedades da divisão e multiplicação, tente entender como estes resultados são iguais:\n",
    "# 0.2 * 6 + 8 * 0.3 + 7 * 0.5 = (20 * 6 + 8 * 30 + 7 * 50) / 100\n",
    "\n",
    "print(0.2 * 6 + 8 * 0.3 + 7 * 0.5)\n",
    "print((20 * 6 + 8 * 30 + 7 * 50) / 100)\n",
    "\n",
    "# sei lá, propriedade distributiva? n sei como falar "
   ]
  }
 ],
 "metadata": {
  "kernelspec": {
   "display_name": "Python 3",
   "language": "python",
   "name": "python3"
  },
  "language_info": {
   "codemirror_mode": {
    "name": "ipython",
    "version": 3
   },
   "file_extension": ".py",
   "mimetype": "text/x-python",
   "name": "python",
   "nbconvert_exporter": "python",
   "pygments_lexer": "ipython3",
   "version": "3.9.6"
  }
 },
 "nbformat": 4,
 "nbformat_minor": 5
}
